{
 "cells": [
  {
   "cell_type": "markdown",
   "metadata": {},
   "source": [
    "make sure to shut down all kernels and restart the kernel if we rerun to avoid access errors"
   ]
  },
  {
   "cell_type": "markdown",
   "metadata": {},
   "source": [
    "this jupyter notebook completes one synchronized image capture from all connected cameras and saves it into a folder. Each image is labeled by the serial number."
   ]
  },
  {
   "cell_type": "markdown",
   "metadata": {},
   "source": [
    "#### Part I- taken from py_scheduled_action_commands.ipynb"
   ]
  },
  {
   "cell_type": "code",
   "execution_count": 1,
   "metadata": {
    "tags": []
   },
   "outputs": [],
   "source": [
    "import time\n",
    "\n",
    "from arena_api.system import system"
   ]
  },
  {
   "cell_type": "code",
   "execution_count": 2,
   "metadata": {},
   "outputs": [],
   "source": [
    "#extra imports from acquisition single buffer gui\n",
    "#import sys\n",
    "\n",
    "import numpy as np # pip3 install numpy\n",
    "import cv2  # pip3 install opencv-python\n",
    "from matplotlib import pyplot as plt # pip3 install matplotlib\n",
    "\n",
    "from arena_api import enums\n",
    "from arena_api.buffer import BufferFactory"
   ]
  },
  {
   "cell_type": "code",
   "execution_count": 3,
   "metadata": {},
   "outputs": [],
   "source": [
    "#extra imports from py_save\n",
    "from datetime import datetime\n",
    "\n",
    "from arena_api.enums import PixelFormat\n",
    "from arena_api.__future__.save import Writer\n"
   ]
  },
  {
   "cell_type": "markdown",
   "metadata": {},
   "source": [
    "#### Scheduled Action Commands\n",
    "> This example introduces scheduling action commands on multiple cameras. The device settings are configured to allow each device to trigger a single image using action commands. The system is prepared to receive an action command and the devices' PTP relationships are synchronized. This allows actions commands to be fired across all devices, resulting in simultaneously acquired images with synchronized timestamps. Depending on the initial PTP state of each camera, it can take about 40 seconds for all devices to autonegotiate."
   ]
  },
  {
   "cell_type": "code",
   "execution_count": 4,
   "metadata": {},
   "outputs": [],
   "source": [
    "TAB1 = \"  \"\n",
    "TAB2 = \"    \"\n",
    "# Exposure time to set in microseconds\n",
    "EXPOSURE_TIME_TO_SET_US = 500.0 #we are not use this variable\n",
    "# Delta time in nanoseconds to set action command\n",
    "DELTA_TIME_NS = 1000000000\n",
    "# Creating global system nodemap\n",
    "sys_tl_map = system.tl_system_nodemap"
   ]
  },
  {
   "cell_type": "markdown",
   "metadata": {},
   "source": [
    "## Create Devices & Initialize attributes"
   ]
  },
  {
   "cell_type": "code",
   "execution_count": 5,
   "metadata": {},
   "outputs": [],
   "source": [
    "\"\"\"\n",
    "This function will let users know that a device is needed and\n",
    "gives them a chance to connect a device instead of raising an exception\n",
    "\"\"\"\n",
    "tries = 0\n",
    "tries_max = 6\n",
    "sleep_time_secs = 10\n",
    "while tries < tries_max:  # Wait for device for 60 seconds\n",
    "    devices = system.create_device() #obtain list of cameras\n",
    "    if not devices:\n",
    "        print(\n",
    "            f'Try {tries+1} of {tries_max}: waiting for {sleep_time_secs}'\n",
    "            f'secs for a device to be connected!')\n",
    "        for sec_count in range(sleep_time_secs):\n",
    "            time.sleep(1)\n",
    "            print(f'{sec_count + 1 } seconds passed ',\n",
    "                    '.' * sec_count, end='\\r')\n",
    "        tries += 1\n",
    "    else:\n",
    "        break\n",
    "else:\n",
    "    raise Exception(f'No device found! Please connect a device and run '\n",
    "                    f'the example again.')\n"
   ]
  },
  {
   "cell_type": "raw",
   "metadata": {},
   "source": [
    "dev_map = devices[0].nodemap\n",
    "print(dev_map)"
   ]
  },
  {
   "cell_type": "code",
   "execution_count": 6,
   "metadata": {},
   "outputs": [],
   "source": [
    "def store_initial(device):\n",
    "    '''\n",
    "    obtains initial attributes to restore them back after sync\n",
    "    '''\n",
    "    dev_map = device.nodemap\n",
    "    exposure_auto_initial = dev_map['ExposureAuto'].value\n",
    "    trigger_source_initial = dev_map['TriggerSource'].value\n",
    "    action_uncond_initial = dev_map['ActionUnconditionalMode'].value\n",
    "    action_selector_initial = dev_map['ActionSelector'].value\n",
    "    action_group_key_initial = dev_map['ActionGroupKey'].value\n",
    "    action_group_mask_initial = dev_map['ActionGroupMask'].value\n",
    "    transfer_control_mode_initial = dev_map['TransferControlMode'].value    \n",
    "    ptp_enable_initial = dev_map['PtpEnable'].value\n",
    "    action_command_dev_key_initial = sys_tl_map['ActionCommandDeviceKey'].value\n",
    "    action_command_grp_key_initial = sys_tl_map['ActionCommandGroupKey'].value\n",
    "    action_command_grp_mask_initial = sys_tl_map['ActionCommandGroupMask'].value\n",
    "    action_command_target_ip_initial = sys_tl_map['ActionCommandTargetIP'].value\n",
    "    \n",
    "    #new\n",
    "    acquisitionModeInitial = dev_map[\"AcquisitionMode\"].value\n",
    "    binningSelectorInitial = dev_map[\"BinningSelector\"].value\n",
    "\n",
    "    binningVerticalModeInitial = dev_map[\"BinningHorizontalMode\"].value\n",
    "    binningHorizontalModeInitial = dev_map[\"BinningHorizontalMode\"].value\n",
    "\n",
    "    binningVerticalInitial = dev_map[\"BinningVertical\"].value\n",
    "    binningHorizontalInitial = dev_map[\"BinningHorizontal\"].value\n",
    "\n",
    "    return [ exposure_auto_initial, trigger_source_initial, action_uncond_initial, \n",
    "    action_selector_initial, action_group_key_initial, action_group_mask_initial,\n",
    "    transfer_control_mode_initial, ptp_enable_initial,\n",
    "    action_command_dev_key_initial, action_command_grp_key_initial, \n",
    "    action_command_grp_mask_initial, action_command_target_ip_initial, \n",
    "            acquisitionModeInitial, \n",
    "           binningSelectorInitial, binningVerticalModeInitial, binningHorizontalModeInitial,\n",
    "           binningVerticalInitial, binningHorizontalInitial]"
   ]
  },
  {
   "cell_type": "code",
   "execution_count": 7,
   "metadata": {},
   "outputs": [],
   "source": [
    "def restore_initial(initial_vals, device):\n",
    "    dev_map = device.nodemap\n",
    "\n",
    "    dev_map['ExposureAuto'].value = initial_vals[0]\n",
    "    dev_map['TriggerSource'].value = initial_vals[1]\n",
    "    dev_map['ActionUnconditionalMode'].value = initial_vals[2]\n",
    "    dev_map['ActionSelector'].value = initial_vals[3]\n",
    "    dev_map['ActionGroupKey'].value = initial_vals[4]\n",
    "    dev_map['ActionGroupMask'].value = initial_vals[5]\n",
    "    dev_map['TransferControlMode'].value = initial_vals[6]\n",
    "    dev_map['PtpEnable'].value = initial_vals[7]   \n",
    "    sys_tl_map['ActionCommandDeviceKey'].value = initial_vals[8]\n",
    "    sys_tl_map['ActionCommandGroupKey'].value = initial_vals[9]\n",
    "    sys_tl_map['ActionCommandGroupMask'].value = initial_vals[10]\n",
    "    sys_tl_map['ActionCommandTargetIP'].value = initial_vals[11]\n",
    "    \n",
    "    #new\n",
    "    #dev_map[\"AcquisitionMode\"].value = initial_vals[12]\n",
    "    #dev_map[\"BinningSelector\"].value = initial_vals[13]\n",
    "    #dev_map[\"BinningVerticalMode\"].value = initial_vals[14]\n",
    "##dev_map[\"BinningVertical\"].value = initial_vals[16]\n",
    "    #dev_map[\"BinningHorizontal\"].value = initial_vals[17]\n",
    "    "
   ]
  },
  {
   "cell_type": "markdown",
   "metadata": {},
   "source": [
    "## Print Devices"
   ]
  },
  {
   "cell_type": "code",
   "execution_count": 8,
   "metadata": {},
   "outputs": [
    {
     "name": "stdout",
     "output_type": "stream",
     "text": [
      "[<arena_api._device.Device object at 0x000001DE28A0D108>, <arena_api._device.Device object at 0x000001DE28A06A48>, <arena_api._device.Device object at 0x000001DE285B2B48>, <arena_api._device.Device object at 0x000001DE289F2B08>, <arena_api._device.Device object at 0x000001DE284B9B48>, <arena_api._device.Device object at 0x000001DE28915488>]\n",
      "  Stream Auto Negotiate Packet Size Enabled : True\n"
     ]
    }
   ],
   "source": [
    "\"\"\"\n",
    "Use max supported packet size. We use transfer control to ensure that\n",
    "only one camera is transmitting at a time.\n",
    "\"\"\"\n",
    "print(devices)\n",
    "for device in devices:\n",
    "    device.tl_stream_nodemap['StreamAutoNegotiatePacketSize'].value = True\n",
    "\n",
    "print(f'{TAB1}Stream Auto Negotiate Packet Size Enabled :'\n",
    "        f''' {device.tl_stream_nodemap['StreamAutoNegotiatePacketSize'].value}''')"
   ]
  },
  {
   "cell_type": "markdown",
   "metadata": {},
   "source": [
    "## Set exposure time to the maximum"
   ]
  },
  {
   "cell_type": "code",
   "execution_count": 9,
   "metadata": {},
   "outputs": [
    {
     "name": "stdout",
     "output_type": "stream",
     "text": [
      "  Exposure Time : 21745.8\n",
      "  Exposure Time : 21745.8\n",
      "  Exposure Time : 21745.8\n",
      "  Exposure Time : 21745.8\n",
      "  Exposure Time : 21745.8\n",
      "  Exposure Time : 21745.8\n"
     ]
    }
   ],
   "source": [
    "\"\"\"\n",
    "Manually set exposure time\n",
    "    In order to get synchronized images, the exposure time\n",
    "    must be synchronized.\n",
    "\"\"\"\n",
    "for device in devices:\n",
    "    dev_map = device.nodemap\n",
    "    nodes = dev_map.get_node(['ExposureAuto', 'ExposureTime'])\n",
    "\n",
    "    nodes['ExposureAuto'].value = 'Off'\n",
    "\n",
    "    exposure_time_node = nodes['ExposureTime']\n",
    "\n",
    "    min_device_exposure_time = exposure_time_node.min\n",
    "    max_device_exposure_time = exposure_time_node.max\n",
    "    \n",
    "    exposure_time_node.value = max_device_exposure_time\n",
    "    \n",
    "    '''\n",
    "    if (EXPOSURE_TIME_TO_SET_US >= min_device_exposure_time and\n",
    "            EXPOSURE_TIME_TO_SET_US <= max_device_exposure_time):\n",
    "        exposure_time_node.value =  EXPOSURE_TIME_TO_SET_US\n",
    "    else:\n",
    "        exposure_time_node.value = min_device_exposure_time\n",
    "    '''\n",
    "    print(f'''{TAB1}Exposure Time : {dev_map['ExposureTime'].value}''')"
   ]
  },
  {
   "cell_type": "code",
   "execution_count": 10,
   "metadata": {},
   "outputs": [
    {
     "name": "stdout",
     "output_type": "stream",
     "text": [
      "  Trigger Source : Action0\n"
     ]
    }
   ],
   "source": [
    "\"\"\"\n",
    "Enable trigger mode and set source to action\n",
    "To trigger a single image using action commands, trigger mode must\n",
    "be enabled, the source set to an action command, and the selector\n",
    "set to the start of a frame.\n",
    "\"\"\"\n",
    "for device in devices:\n",
    "    dev_map = device.nodemap\n",
    "\n",
    "    dev_map['TriggerMode'].value = 'On'\n",
    "    dev_map['TriggerSource'].value = 'Action0'\n",
    "    dev_map['TriggerSelector'].value = 'FrameStart'\n",
    "\n",
    "print(f'''{TAB1}Trigger Source : {dev_map['TriggerSource'].value}''')"
   ]
  },
  {
   "cell_type": "code",
   "execution_count": 11,
   "metadata": {},
   "outputs": [
    {
     "name": "stdout",
     "output_type": "stream",
     "text": [
      "  Action commands: prepared\n"
     ]
    }
   ],
   "source": [
    "\"\"\"\n",
    "Prepare the device to receive an action command\n",
    "Action unconditional mode allows a camera to accept action from an\n",
    "application without write access. The device key, group key, and\n",
    "group mask must match similar settings in the system's TL node map.\n",
    "\"\"\"\n",
    "for device in devices:\n",
    "    dev_map = device.nodemap\n",
    "\n",
    "    dev_map['ActionUnconditionalMode'].value = 'On'\n",
    "    dev_map['ActionSelector'].value = 0\n",
    "    dev_map['ActionDeviceKey'].value = 1\n",
    "    dev_map['ActionGroupKey'].value = 1\n",
    "    dev_map['ActionGroupMask'].value = 1\n",
    "\n",
    "print(f'{TAB1}Action commands: prepared')"
   ]
  },
  {
   "cell_type": "code",
   "execution_count": 12,
   "metadata": {},
   "outputs": [
    {
     "name": "stdout",
     "output_type": "stream",
     "text": [
      "  Transfer Control: prepared\n"
     ]
    }
   ],
   "source": [
    "\"\"\"\n",
    "Enable user controlled transfer control\n",
    "Synchronized cameras will begin transmiting images at the same time.\n",
    "To avoid missing packets due to collisions, we will use transfer\n",
    "control to control when each camera transmits the image.\n",
    "\"\"\"\n",
    "for device in devices:\n",
    "    dev_map = device.nodemap\n",
    "\n",
    "    dev_map['TransferControlMode'].value = 'UserControlled'\n",
    "    dev_map['TransferOperationMode'].value = 'Continuous'\n",
    "    dev_map['TransferStop'].execute()\n",
    "\n",
    "print(f'{TAB1}Transfer Control: prepared')"
   ]
  },
  {
   "cell_type": "markdown",
   "metadata": {},
   "source": [
    "#### Negotiate master/slave"
   ]
  },
  {
   "cell_type": "code",
   "execution_count": 13,
   "metadata": {},
   "outputs": [
    {
     "name": "stdout",
     "output_type": "stream",
     "text": [
      "  PTP Enabled : True\n",
      "\n"
     ]
    }
   ],
   "source": [
    "\"\"\"\n",
    "Synchronize devices by enabling PTP\n",
    "Enabling PTP on multiple devices causes them to negotiate amongst\n",
    "themselves so that there is a single master device while all the\n",
    "rest become slaves. The slaves' clocks all synchronize to the\n",
    "master's clock.\n",
    "\"\"\"\n",
    "for device in devices:\n",
    "    device.nodemap['PtpEnable'].value = True\n",
    "\n",
    "print(f'''{TAB1}PTP Enabled : {device.nodemap['PtpEnable'].value}\\n''')"
   ]
  },
  {
   "cell_type": "code",
   "execution_count": 14,
   "metadata": {
    "tags": []
   },
   "outputs": [
    {
     "name": "stdout",
     "output_type": "stream",
     "text": [
      "  System: prepared\n"
     ]
    }
   ],
   "source": [
    "\"\"\"\n",
    "Prepare the system to broadcast an action command.\n",
    "The device key, group key, group mask, and target IP must all match\n",
    "similar settings in the devices' node maps. The target IP acts as a mask.\n",
    "\"\"\"\n",
    "sys_tl_map['ActionCommandDeviceKey'].value = 1\n",
    "sys_tl_map['ActionCommandGroupKey'].value = 1\n",
    "sys_tl_map['ActionCommandGroupMask'].value = 1\n",
    "sys_tl_map['ActionCommandTargetIP'].value = 0xFFFFFFFF  # 0.0.0.0\n",
    "\n",
    "print(f'{TAB1}System: prepared')"
   ]
  },
  {
   "cell_type": "markdown",
   "metadata": {},
   "source": [
    "# Synchronize Cameras\n",
    "#### chooses a master and rest are listeners"
   ]
  },
  {
   "cell_type": "code",
   "execution_count": 15,
   "metadata": {},
   "outputs": [],
   "source": [
    "def synchronize_cameras():\n",
    "    \"\"\"\n",
    "    Wait for devices to negotiate their PTP relationship\n",
    "    Before starting any PTP-dependent actions, it is important to\n",
    "    wait for the devices to complete their negotiation; otherwise,\n",
    "    the devices may not yet be synced. Depending on the initial PTP\n",
    "    state of each camera, it can take about 40 seconds for all devices\n",
    "    to autonegotiate. Below, we wait for the PTP status of each device until\n",
    "    there is only one 'Master' and the rest are all 'Slaves'.\n",
    "    During the negotiation phase, multiple devices may initially come up as\n",
    "    Master so we will wait until the ptp negotiation completes.\n",
    "    \"\"\"\n",
    "    print(f'{TAB1}Waiting for PTP Master/Slave negotiation. '\n",
    "          f'This can take up to about 40s')\n",
    "\n",
    "    while True:\n",
    "        master_found = False\n",
    "        restart_sync_check = False\n",
    "\n",
    "        for device in devices:\n",
    "\n",
    "            ptp_status = device.nodemap['PtpStatus'].value\n",
    "\n",
    "            # User might uncomment this line for debugging\n",
    "            print(f'{device} is {ptp_status}')\n",
    "\n",
    "            # Find master\n",
    "            if ptp_status == 'Master':\n",
    "                if master_found:\n",
    "                    restart_sync_check = True\n",
    "                    break\n",
    "                master_found = True\n",
    "\n",
    "            # Restart check until all slaves found\n",
    "            elif ptp_status != 'Slave':\n",
    "                restart_sync_check = True\n",
    "                break\n",
    "\n",
    "        # A single master was found and all remaining cameras are slaves\n",
    "        if not restart_sync_check and master_found:\n",
    "            break\n",
    "\n",
    "        time.sleep(1)\n"
   ]
  },
  {
   "cell_type": "code",
   "execution_count": 16,
   "metadata": {},
   "outputs": [],
   "source": [
    "#function from acquisition_single_buffer_gui\n",
    "def convert_buffer_to_BGR8(buffer):\n",
    "\n",
    "    if (buffer.pixel_format == enums.PixelFormat.BGR8):\n",
    "        return buffer\n",
    "    print('Converting image buffer pixel format to BGR8 ')\n",
    "    return BufferFactory.convert(buffer, enums.PixelFormat.BGR8) #must be destroyed after"
   ]
  },
  {
   "cell_type": "markdown",
   "metadata": {
    "tags": []
   },
   "source": [
    "#### Save images as PNG\n",
    "This version of schedule_action_commands saves each image as a PNG in the images folder"
   ]
  },
  {
   "cell_type": "code",
   "execution_count": 17,
   "metadata": {},
   "outputs": [],
   "source": [
    "def schedule_action_command():\n",
    "    \"\"\"\n",
    "    Set up timing and broadcast action command\n",
    "    Action commands must be scheduled for a time in the future.\n",
    "    This can be done by grabbing the PTP time from a device, adding\n",
    "    a delta to it, and setting it as an action command's execution time.\n",
    "    \"\"\"\n",
    "    device = devices[0]\n",
    "    times = []\n",
    "    converted_buffers = []\n",
    "\n",
    "    device.nodemap['PtpDataSetLatch'].execute()\n",
    "    ptp_data_set_latch_value = device.nodemap['PtpDataSetLatchValue'].value\n",
    "\n",
    "    print(f'{TAB2}Set action command to {DELTA_TIME_NS} nanoseconds from now')\n",
    "\n",
    "    sys_tl_map['ActionCommandExecuteTime'].value \\\n",
    "        = ptp_data_set_latch_value + DELTA_TIME_NS\n",
    "\n",
    "    print(f'{TAB2}Fire action command')\n",
    "    \"\"\"\n",
    "    Fire action command\n",
    "    Action commands are fired and broadcast to all devices, but\n",
    "    only received by the devices matching desired settings.\n",
    "    \"\"\"\n",
    "    sys_tl_map['ActionCommandFireCommand'].execute()\n",
    "\n",
    "    offsets = {}\n",
    "    time_id = time.time()\n",
    "    \n",
    "    #NEW CODE FROM MOVINYA\n",
    "    new_devices = [devices[0],devices[1]] #change this to master and listener\n",
    "    writer = Writer()\n",
    "    SERIAL_NUMBER = devices[i].nodemap['DeviceSerialNumber'].value #serial number\n",
    "    FILEPATH = f'images/camera_{SERIAL_NUMBER}'\n",
    "    writer.pattern = f'images/camera_{SERIAL_NUMBER}/image_{time_id}.jpg'\n",
    "    NUM_OF_IMAGES = 3\n",
    "\n",
    "    # Grab image from cameras\n",
    "    for device in devices:\n",
    "        for i in range(NUM_OF_IMAGES):\n",
    "            # Transfer Control\n",
    "            device.nodemap['TransferStart'].execute()\n",
    "\n",
    "            buffer = device.get_buffer(timeout=2000)\n",
    "\n",
    "            device.nodemap['TransferStop'].execute()\n",
    "\n",
    "            print(f'{TAB1}{TAB2}Received image from {device}'\n",
    "                  f' | Timestamp: {buffer.timestamp_ns} ns')\n",
    "\n",
    "            #save img\n",
    "            converted = BufferFactory.convert(buffer, PixelFormat.BGR8) #convert the image to correct format\n",
    "            print(f\"{TAB1}Converted image to {pixel_format.name}\")\n",
    "            converted_buffers.append(converted)\n",
    "\n",
    "            device.requeue_buffer(buffer)\n",
    "            print('requeued buffer')\n",
    "\n",
    "            writer.save(converted)\n",
    "            print(f'{TAB1}Image saved in {FILEPATH}')\n",
    "\n",
    "            BufferFactory.destroy(converted)"
   ]
  },
  {
   "cell_type": "code",
   "execution_count": 18,
   "metadata": {},
   "outputs": [
    {
     "name": "stdout",
     "output_type": "stream",
     "text": [
      "  Waiting for PTP Master/Slave negotiation. This can take up to about 40s\n",
      "('1c:0f:af:05:62:b8', 'TRI023S-C', '', '169.254.185.98') is Disabled\n",
      "('1c:0f:af:05:62:b8', 'TRI023S-C', '', '169.254.185.98') is Listening\n",
      "('1c:0f:af:05:62:b8', 'TRI023S-C', '', '169.254.185.98') is Listening\n",
      "('1c:0f:af:05:62:b8', 'TRI023S-C', '', '169.254.185.98') is Listening\n",
      "('1c:0f:af:05:62:b8', 'TRI023S-C', '', '169.254.185.98') is Listening\n",
      "('1c:0f:af:05:62:b8', 'TRI023S-C', '', '169.254.185.98') is Listening\n",
      "('1c:0f:af:05:62:b8', 'TRI023S-C', '', '169.254.185.98') is Listening\n",
      "('1c:0f:af:05:62:b8', 'TRI023S-C', '', '169.254.185.98') is Listening\n",
      "('1c:0f:af:05:62:b8', 'TRI023S-C', '', '169.254.185.98') is Listening\n",
      "('1c:0f:af:05:62:b8', 'TRI023S-C', '', '169.254.185.98') is Listening\n",
      "('1c:0f:af:05:62:b8', 'TRI023S-C', '', '169.254.185.98') is Listening\n",
      "('1c:0f:af:05:62:b8', 'TRI023S-C', '', '169.254.185.98') is Listening\n",
      "('1c:0f:af:05:62:b8', 'TRI023S-C', '', '169.254.185.98') is Master\n",
      "('1c:0f:af:05:62:c1', 'TRI023S-C', '', '169.254.194.98') is Master\n",
      "('1c:0f:af:05:62:b8', 'TRI023S-C', '', '169.254.185.98') is Master\n",
      "('1c:0f:af:05:62:c1', 'TRI023S-C', '', '169.254.194.98') is Master\n",
      "('1c:0f:af:05:62:b8', 'TRI023S-C', '', '169.254.185.98') is Master\n",
      "('1c:0f:af:05:62:c1', 'TRI023S-C', '', '169.254.194.98') is Uncalibrated\n",
      "('1c:0f:af:05:62:b8', 'TRI023S-C', '', '169.254.185.98') is Master\n",
      "('1c:0f:af:05:62:c1', 'TRI023S-C', '', '169.254.194.98') is Uncalibrated\n",
      "('1c:0f:af:05:62:b8', 'TRI023S-C', '', '169.254.185.98') is Master\n",
      "('1c:0f:af:05:62:c1', 'TRI023S-C', '', '169.254.194.98') is Slave\n",
      "('1c:0f:af:05:63:18', 'TRI023S-C', '', '169.254.25.99') is Slave\n",
      "('1c:0f:af:05:62:db', 'TRI023S-C', '', '169.254.220.98') is Slave\n",
      "('1c:0f:af:05:62:e4', 'TRI023S-C', '', '169.254.229.98') is Slave\n",
      "('1c:0f:af:05:62:fe', 'TRI023S-C', '', '169.254.1.98') is Slave\n",
      "  Start stream\n",
      "    Set action command to 1000000000 nanoseconds from now\n",
      "    Fire action command\n",
      "      Received image from ('1c:0f:af:05:62:b8', 'TRI023S-C', '', '169.254.185.98') | Timestamp: 120497612752 ns\n",
      "      Received image from ('1c:0f:af:05:62:c1', 'TRI023S-C', '', '169.254.194.98') | Timestamp: 120497617064 ns\n",
      "      Received image from ('1c:0f:af:05:63:18', 'TRI023S-C', '', '169.254.25.99') | Timestamp: 120497606880 ns\n",
      "      Received image from ('1c:0f:af:05:62:db', 'TRI023S-C', '', '169.254.220.98') | Timestamp: 120497610392 ns\n",
      "      Received image from ('1c:0f:af:05:62:e4', 'TRI023S-C', '', '169.254.229.98') | Timestamp: 120497610584 ns\n",
      "      Received image from ('1c:0f:af:05:62:fe', 'TRI023S-C', '', '169.254.1.98') | Timestamp: 120497620208 ns\n",
      "  Image saved\n",
      "      224400362: -1 ns\n",
      "  Image saved\n",
      "      224400363: 3566 ns\n",
      "  Image saved\n",
      "      224400367: 859 ns\n",
      "  Image saved\n",
      "      224400364: 782 ns\n",
      "  Image saved\n",
      "      224400365: 2420 ns\n",
      "  Image saved\n",
      "      224400366: 825 ns\n",
      "  Stop stream and destroy all devices\n"
     ]
    }
   ],
   "source": [
    "\"\"\"\n",
    "// Demonstrates action commands\n",
    "// (1) manually sets exposure, trigger and action command settings\n",
    "// (2) prepares devices for action commands\n",
    "// (3) synchronizes devices and fire action command\n",
    "// (4) retrieves images with synchronized timestamps\n",
    "\"\"\"\n",
    "\n",
    "initial_vals_arr = []\n",
    "for device in devices:\n",
    "    # Get device stream nodemap\n",
    "    tl_stream_nodemap = device.tl_stream_nodemap\n",
    "\n",
    "    # Enable stream auto negotiate packet size\n",
    "    tl_stream_nodemap['StreamAutoNegotiatePacketSize'].value = True\n",
    "\n",
    "    # Enable stream packet resend\n",
    "    tl_stream_nodemap['StreamPacketResendEnable'].value = True\n",
    "\n",
    "    # Store initial values\n",
    "    initial_vals = store_initial(device)\n",
    "    initial_vals_arr.append(initial_vals)\n",
    "    #print(initial_vals_arr)\n",
    "    \n",
    "    #configure_sensor_binning(device) #do the binning stuff\n",
    "\n",
    "synchronize_cameras()\n",
    "\n",
    "print(f'{TAB1}Start stream')\n",
    "for device in devices:\n",
    "    device.start_stream()\n",
    "    \n",
    "\"\"\"\n",
    "Compare timestamps\n",
    "Scheduling action commands amongst PTP synchronized devices\n",
    "results synchronized images with synchronized timestamps.\n",
    "\"\"\"\n",
    "schedule_action_command()\n",
    "print('ran schedule_action_command()')\n",
    "\n",
    "for i in range(0, devices.__len__()):\n",
    "    #print(initial_vals_arr)\n",
    "    #print(devices[i].nodemap[\"BinningVertical\"].value)\n",
    "    restore_initial(initial_vals_arr.pop(0), devices[i])\n",
    "    #device.nodemap['UserSetSelector'].value = 'Default'\n",
    "    #device.nodemap['UserSetLoad'].execute()\n",
    "    #print('Device settings has been reset to \\'Default\\' user set')\n",
    "    \n",
    "\n",
    "print(f'{TAB1}Stop stream and destroy all devices')\n",
    "system.destroy_device()\n"
   ]
  }
 ],
 "metadata": {
  "interpreter": {
   "hash": "520c5ad4575fadc5aeff8f7fe0ecb965d054482e0492acfe5440edeef6b5197d"
  },
  "kernelspec": {
   "display_name": "Python 3 (ipykernel)",
   "language": "python",
   "name": "python3"
  },
  "language_info": {
   "codemirror_mode": {
    "name": "ipython",
    "version": 3
   },
   "file_extension": ".py",
   "mimetype": "text/x-python",
   "name": "python",
   "nbconvert_exporter": "python",
   "pygments_lexer": "ipython3",
   "version": "3.9.12"
  }
 },
 "nbformat": 4,
 "nbformat_minor": 4
}
