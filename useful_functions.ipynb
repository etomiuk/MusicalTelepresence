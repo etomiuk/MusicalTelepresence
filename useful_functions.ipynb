{
 "cells": [
  {
   "cell_type": "markdown",
   "id": "b4001e0c-ec37-4734-8489-7348acbba159",
   "metadata": {},
   "source": [
    "This notebook contains pieces of the source code files that have useful functionalities. \n",
    "1. Creating the devices\n",
    "2. Saving frame from one camera in image buffer\n",
    "3. Displaying a frame from one camera from buffer\n",
    "4. Streaming video from one camera\n",
    "5. Saving frame from one camera as PNG\n",
    "6. Resetting the device settings\n",
    "\n",
    "##### Important notes: \n",
    "- When creating devices, we must destroy them using system.destroy_device()\n",
    "- Any function associated with BufferFactory that creates a BufferFactory object or a copy of a buffer must destroy the Buffer object to avoid memory leak (since this stores images in memory) - use BufferFactory.destroy(object)"
   ]
  },
  {
   "cell_type": "markdown",
   "id": "c389948a-d96a-465b-a0be-b0afe58d6e26",
   "metadata": {},
   "source": [
    "## Imports\n",
    "Some imports are duplicates from another cell"
   ]
  },
  {
   "cell_type": "markdown",
   "id": "daf1ea04-7bef-46ba-99d9-e06c8f1ec7e7",
   "metadata": {},
   "source": [
    "#### 2. Saving frame from one camera in image buffer"
   ]
  },
  {
   "cell_type": "code",
   "execution_count": null,
   "id": "9a71a41b-5ef3-47ab-a39a-e729a0d103a1",
   "metadata": {},
   "outputs": [],
   "source": [
    "import time\n",
    "from arena_api.system import system"
   ]
  },
  {
   "cell_type": "markdown",
   "id": "99bcffee-2f46-4823-8a5e-5e80dd56b7ea",
   "metadata": {},
   "source": [
    "#### 3. Displaying a frame from one camera from buffer"
   ]
  },
  {
   "cell_type": "code",
   "execution_count": null,
   "id": "3d5b3697-32ba-4576-84ab-7ddeac25967c",
   "metadata": {},
   "outputs": [],
   "source": [
    "import time\n",
    "\n",
    "import numpy as np # pip3 install numpy\n",
    "import cv2  # pip3 install opencv-python\n",
    "from matplotlib import pyplot as plt # pip3 install matplotlib\n",
    "# pip3 install pillow\n",
    "from PIL import Image as PIL_Image\n",
    "from PIL import ImageTk as PIL_ImageTk\n",
    "# pip3 install tk / or 'sudo apt-get install python3-tk' for linux\n",
    "from tkinter import *\n",
    "\n",
    "from arena_api import enums\n",
    "from arena_api.system import system\n",
    "from arena_api.buffer import BufferFactory"
   ]
  },
  {
   "cell_type": "markdown",
   "id": "dbd0ce8c-53c3-4eac-ba55-f16244f6a2e5",
   "metadata": {},
   "source": [
    "#### 4. Streaming video from one camera"
   ]
  },
  {
   "cell_type": "code",
   "execution_count": null,
   "id": "38d7f90e-23ae-4978-ab79-a52afbe3af01",
   "metadata": {},
   "outputs": [],
   "source": [
    "from arena_api.system import system\n",
    "from arena_api.buffer import *\n",
    "\n",
    "import ctypes\n",
    "import numpy as np\n",
    "import cv2\n",
    "import time"
   ]
  },
  {
   "cell_type": "markdown",
   "id": "d5f5a2e9-d9e7-4ecb-9b72-9d6942616728",
   "metadata": {},
   "source": [
    "#### 5. Saving from one camera as PNG"
   ]
  },
  {
   "cell_type": "code",
   "execution_count": null,
   "id": "1cb4c80e-7036-487b-93e6-49eb28ef15df",
   "metadata": {},
   "outputs": [],
   "source": [
    "import time\n",
    "from datetime import datetime\n",
    "\n",
    "from arena_api.enums import PixelFormat\n",
    "from arena_api.__future__.save import Writer\n",
    "from arena_api.system import system\n",
    "from arena_api.buffer import BufferFactory"
   ]
  },
  {
   "cell_type": "markdown",
   "id": "2129c527-6948-48e9-af03-a8390160bef9",
   "metadata": {},
   "source": [
    "#### 6. Resetting device settings"
   ]
  },
  {
   "cell_type": "code",
   "execution_count": null,
   "id": "816dca37-d298-4af2-b5ff-262121c7e949",
   "metadata": {},
   "outputs": [],
   "source": [
    "import time\n",
    "from arena_api.system import system"
   ]
  },
  {
   "cell_type": "markdown",
   "id": "b779b63b-ffbb-425b-b4fc-a8126deb9ad1",
   "metadata": {},
   "source": [
    "## 1. Creating devices\n",
    "This step needs to be done before we do anything with the cameras"
   ]
  },
  {
   "cell_type": "code",
   "execution_count": null,
   "id": "69caea3b-3464-4fbb-8af4-781af1a337ca",
   "metadata": {},
   "outputs": [],
   "source": [
    "\"\"\"\n",
    "This function will let users know that a device is needed and\n",
    "gives them a chance to connect a device instead of raising an exception\n",
    "\"\"\"\n",
    "tries = 0\n",
    "tries_max = 6\n",
    "sleep_time_secs = 10\n",
    "while tries < tries_max:  # Wait for device for 60 seconds\n",
    "    devices = system.create_device() #obtain list of cameras\n",
    "    if not devices:\n",
    "        print(\n",
    "            f'Try {tries+1} of {tries_max}: waiting for {sleep_time_secs}'\n",
    "            f'secs for a device to be connected!')\n",
    "        for sec_count in range(sleep_time_secs):\n",
    "            time.sleep(1)\n",
    "            print(f'{sec_count + 1 } seconds passed ',\n",
    "                    '.' * sec_count, end='\\r')\n",
    "        tries += 1\n",
    "    else:\n",
    "        break\n",
    "else:\n",
    "    raise Exception(f'No device found! Please connect a device and run '\n",
    "                    f'the example again.')\n",
    "    \n",
    "print(devices)"
   ]
  },
  {
   "cell_type": "markdown",
   "id": "ca7c3261-4580-46fb-8186-1ee3156292ee",
   "metadata": {},
   "source": [
    "## 2. Saving frame from one camera in image buffer"
   ]
  },
  {
   "cell_type": "code",
   "execution_count": null,
   "id": "9b9458cd-606a-42cd-a6ab-15606bb29086",
   "metadata": {},
   "outputs": [],
   "source": [
    "TAB1 = \"  \" #global vars for printing\n",
    "TAB2 = \"    \""
   ]
  },
  {
   "cell_type": "code",
   "execution_count": null,
   "id": "2a782f0b-5fe4-497e-9c06-13e1c8cbb711",
   "metadata": {},
   "outputs": [],
   "source": [
    "print(f\"{TAB1}Enumerate Device\")\n",
    "\n",
    "device = devices[0] #picks one of the devices - sort of at random\n",
    "\n",
    "# Get stream nodemap to set features before streaming\n",
    "stream_nodemap = device.tl_stream_nodemap\n",
    "\n",
    "# Enable stream auto negotiate packet size\n",
    "stream_nodemap['StreamAutoNegotiatePacketSize'].value = True\n",
    "# Enable stream packet resend\n",
    "stream_nodemap['StreamPacketResendEnable'].value = True\n"
   ]
  },
  {
   "cell_type": "code",
   "execution_count": null,
   "id": "b6305d08-e538-4fba-a674-1cb42599749e",
   "metadata": {},
   "outputs": [],
   "source": [
    "with device.start_stream(): #using \"with\" we automatically start streaming if all goes well\n",
    "\n",
    "    buffer = device.get_buffer() #gets image from buffer\n",
    "    print(f\"{TAB2}Acquire Image\")\n",
    "\n",
    "    # Requeue to release buffer memory\n",
    "    device.requeue_buffer(buffer) #something we should do after getting from buffer\n",
    "# Clean up\n",
    "print(f\"{TAB1}Clean up Arena\")\n",
    "\n",
    "system.destroy_device()"
   ]
  },
  {
   "cell_type": "markdown",
   "id": "f15a7b70-816e-46a3-acec-b7e1bacf259d",
   "metadata": {},
   "source": [
    "## 3. Displaying a frame from one camera from buffer"
   ]
  },
  {
   "cell_type": "markdown",
   "id": "4bad87c1-ce1b-4449-953a-dfee4f7dd062",
   "metadata": {},
   "source": [
    "#### Set initial values of attributes"
   ]
  },
  {
   "cell_type": "code",
   "execution_count": null,
   "id": "d6a954fd-4ed4-4006-88ca-e674c3b3fa95",
   "metadata": {},
   "outputs": [],
   "source": [
    "nodes = device.nodemap.get_node(['Width', 'Height', 'PixelFormat'])\n",
    "width_initial = nodes['Width'].value\n",
    "height_initial = nodes['Height'].value\n",
    "pixel_format_initial = nodes['PixelFormat'].value"
   ]
  },
  {
   "cell_type": "code",
   "execution_count": null,
   "id": "17629d1f-23ce-4745-9f00-89519e6549b1",
   "metadata": {},
   "outputs": [],
   "source": [
    "# Get stream nodemap\n",
    "stream_nodemap = device.tl_stream_nodemap\n",
    "\n",
    "# Enable stream auto negotiate packet size\n",
    "stream_nodemap['StreamAutoNegotiatePacketSize'].value = True\n",
    "\n",
    "# Enable stream packet resend\n",
    "stream_nodemap['StreamPacketResendEnable'].value = True\n",
    "\n",
    "# Set width and height to their max values\n",
    "print('Setting \\'Width\\' and \\'Height\\' Nodes value to their max values')\n",
    "nodes['Width'].value = nodes['Width'].max\n",
    "nodes['Height'].value = nodes['Height'].max\n",
    "\n",
    "# Setting pixel format \n",
    "new_pixel_format = 'Mono8'\n",
    "print(f'Setting \\'PixelFormat\\' to \\'{new_pixel_format}\\'')\n",
    "nodes['PixelFormat'].value = new_pixel_format"
   ]
  },
  {
   "cell_type": "markdown",
   "id": "b1032251-252a-43d0-99dd-bb37fbc02d4b",
   "metadata": {},
   "source": [
    "#### Function that converts the buffer image to BGR8 pixels"
   ]
  },
  {
   "cell_type": "code",
   "execution_count": null,
   "id": "85c393ba-b0fe-4ee3-b5a8-7323ef8827d3",
   "metadata": {},
   "outputs": [],
   "source": [
    "def convert_buffer_to_BGR8(buffer):\n",
    "\n",
    "    if (buffer.pixel_format == enums.PixelFormat.BGR8):\n",
    "        return buffer\n",
    "    print('Converting image buffer pixel format to BGR8 ')\n",
    "    return BufferFactory.convert(buffer, enums.PixelFormat.BGR8)\n"
   ]
  },
  {
   "cell_type": "markdown",
   "id": "9a5fc06f-a9cc-440e-84f1-7c279a3f1d1c",
   "metadata": {},
   "source": [
    "#### Turn image data into a numpy array to display"
   ]
  },
  {
   "cell_type": "code",
   "execution_count": null,
   "id": "dc342e8a-4284-4842-8476-155d20cba9a6",
   "metadata": {},
   "outputs": [],
   "source": [
    "buffer_BGR8 = None\n",
    "np_array_reshaped = None\n",
    "\n",
    "with device.start_stream():\n",
    "    print(f'Stream started with 1 buffers')\n",
    "    \n",
    "    print('\\tGet one buffer')\n",
    "    buffer = device.get_buffer() #grab the image\n",
    "\n",
    "    # Print some info about the image in the buffer\n",
    "    print(f'\\t\\tbuffer received   | '\n",
    "        f'Width = {buffer.width} pxl, '\n",
    "        f'Height = {buffer.height} pxl, '\n",
    "        f'Pixel Format = {buffer.pixel_format.name}')\n",
    "\n",
    "    # Converting to BGR8 format\n",
    "    print('\\tConverting to BGR8 format')\n",
    "    buffer_BGR8 = convert_buffer_to_BGR8(buffer)\n",
    "\n",
    "    # Requeue to release buffer memory\n",
    "    print('Requeuing device buffer')\n",
    "    device.requeue_buffer(buffer)\n",
    "\n",
    "    # Get a copy so it can be used after the buffer is requeued\n",
    "    print('\\tConvert image buffer to a numpy array')\n",
    "    buffer_bytes_per_pixel = int(len(buffer_BGR8.data)/(buffer_BGR8.width * buffer_BGR8.height))\n",
    "    np_array = np.asarray(buffer_BGR8.data, dtype=np.uint8) #image data as np array\n",
    "    np_array_reshaped = np_array.reshape(buffer_BGR8.height, buffer_BGR8.width, buffer_bytes_per_pixel)"
   ]
  },
  {
   "cell_type": "markdown",
   "id": "aaa20d8b-0fea-4865-a669-461292383683",
   "metadata": {},
   "source": [
    "#### Display using matplotlib"
   ]
  },
  {
   "cell_type": "code",
   "execution_count": null,
   "id": "2ea84028-c8be-4359-8770-5cce6e8a9369",
   "metadata": {},
   "outputs": [],
   "source": [
    "np_array_shaped_rgb = cv2.cvtColor(np_array_reshaped, cv2.COLOR_BGR2RGB)\n",
    "plt.imshow(np_array_shaped_rgb)"
   ]
  },
  {
   "cell_type": "markdown",
   "id": "fd88b49f-be57-4dee-89f5-e9cf448f87b4",
   "metadata": {},
   "source": [
    "#### Display using cv2"
   ]
  },
  {
   "cell_type": "code",
   "execution_count": null,
   "id": "093ff766-a50d-418a-964c-e9b1720429a8",
   "metadata": {},
   "outputs": [],
   "source": [
    "cv2.imshow(\"window_title\", np_array_reshaped)\n",
    "\n",
    "# wait for user key before closing it\n",
    "cv2.waitKey(0)\n",
    "\n",
    "cv2.destroyAllWindows()"
   ]
  },
  {
   "cell_type": "markdown",
   "id": "53dd7264-3188-4ceb-b3b6-4ebc9fd5cbda",
   "metadata": {},
   "source": [
    "#### Display using Tkinter"
   ]
  },
  {
   "cell_type": "code",
   "execution_count": null,
   "id": "4652e956-1882-40c9-a3b8-bb2d7d2752c1",
   "metadata": {},
   "outputs": [],
   "source": [
    "print('Creating \\'PIL.Image\\' instance from Numpy array')\n",
    "pil_image = PIL_Image.fromarray(np_array_reshaped)\n",
    "\n",
    "print('Creating a Tkinter readable image from \\'PIL.Image\\' instance')\n",
    "root = Tk()\n",
    "pil_imagetk_photoimage = PIL_ImageTk.PhotoImage(pil_image)\n",
    "\n",
    "label = Label(root, image=pil_imagetk_photoimage)\n",
    "label.pack()\n",
    "root.mainloop()"
   ]
  },
  {
   "cell_type": "markdown",
   "id": "56a7ead2-1872-42da-85f6-41e7ed51ac27",
   "metadata": {},
   "source": [
    "#### Cleanup and reset initial image values"
   ]
  },
  {
   "cell_type": "code",
   "execution_count": null,
   "id": "fb03bf0a-246f-4128-b9a8-52006fb9a824",
   "metadata": {},
   "outputs": [],
   "source": [
    "BufferFactory.destroy(buffer_BGR8)"
   ]
  },
  {
   "cell_type": "code",
   "execution_count": null,
   "id": "0e5c0de6-0954-49f1-8ab6-11a8636b53c9",
   "metadata": {},
   "outputs": [],
   "source": [
    "print(\"Stream stopped\")\n",
    "device.stop_stream()\n",
    "\n",
    "print(\"Return nodes to initial values\")\n",
    "nodes['Width'].value = width_initial\n",
    "nodes['Height'].value = height_initial\n",
    "nodes['PixelFormat'].value = pixel_format_initial\n",
    "\n",
    "system.destroy_device()\n",
    "print('Destroyed all created devices')"
   ]
  },
  {
   "cell_type": "markdown",
   "id": "92fdcdc9-8d4b-4abe-ad7e-a029f434cf57",
   "metadata": {
    "tags": []
   },
   "source": [
    "## 4. Streaming video from one camera"
   ]
  },
  {
   "cell_type": "markdown",
   "id": "7c2c0f31-2eba-4441-a188-d1af42d3eae8",
   "metadata": {},
   "source": [
    "#### Setup the attibutes"
   ]
  },
  {
   "cell_type": "code",
   "execution_count": null,
   "id": "a051ff39-724d-4c63-ae1d-89c39fc3b200",
   "metadata": {},
   "outputs": [],
   "source": [
    "nodemap = device.nodemap\n",
    "nodes = nodemap.get_node(['Width', 'Height', 'PixelFormat'])\n",
    "\n",
    "nodes['Width'].value = 1280\n",
    "nodes['Height'].value = 720\n",
    "nodes['PixelFormat'].value = 'RGB8'\n",
    "\n",
    "num_channels = 3\n",
    "\n",
    "# Stream nodemap\n",
    "tl_stream_nodemap = device.tl_stream_nodemap\n",
    "\n",
    "tl_stream_nodemap[\"StreamBufferHandlingMode\"].value = \"NewestOnly\"\n",
    "tl_stream_nodemap['StreamAutoNegotiatePacketSize'].value = True\n",
    "tl_stream_nodemap['StreamPacketResendEnable'].value = True"
   ]
  },
  {
   "cell_type": "markdown",
   "id": "f34bb043-87b9-475b-963e-192d6405d45f",
   "metadata": {},
   "source": [
    "#### Stream the video by keep on acquiring the image from the buffer and displaying it using cv2. It also displays a running clock."
   ]
  },
  {
   "cell_type": "code",
   "execution_count": null,
   "id": "ab8926a6-54a1-4277-826f-ca52cf0dd56f",
   "metadata": {},
   "outputs": [],
   "source": [
    "curr_frame_time = 0\n",
    "prev_frame_time = 0\n",
    "\n",
    "with device.start_stream():\n",
    "    \"\"\"\n",
    "    Infinitely fetch and display buffer data until esc is pressed\n",
    "    \"\"\"\n",
    "    while True:\n",
    "        # Used to display FPS on stream\n",
    "        curr_frame_time = time.time()\n",
    "\n",
    "        buffer = device.get_buffer()\n",
    "        \"\"\"\n",
    "        Copy buffer and requeue to avoid running out of buffers\n",
    "        \"\"\"\n",
    "        item = BufferFactory.copy(buffer)\n",
    "        device.requeue_buffer(buffer)\n",
    "\n",
    "        buffer_bytes_per_pixel = int(len(item.data)/(item.width * item.height))\n",
    "        \"\"\"\n",
    "        Buffer data as cpointers can be accessed using buffer.pbytes\n",
    "        \"\"\"\n",
    "        array = (ctypes.c_ubyte * num_channels * item.width * item.height).from_address(ctypes.addressof(item.pbytes))\n",
    "        \"\"\"\n",
    "        Create a reshaped NumPy array to display using OpenCV\n",
    "        \"\"\"\n",
    "        npndarray = np.ndarray(buffer=array, dtype=np.uint8, shape=(item.height, item.width, buffer_bytes_per_pixel))\n",
    "        \n",
    "        fps = str(1/(curr_frame_time - prev_frame_time))\n",
    "        cv2.putText(npndarray, fps, (7, 70), cv2.FONT_HERSHEY_SIMPLEX, 3, (100, 255, 0), 3, cv2.LINE_AA)\n",
    "        \n",
    "\n",
    "        cv2.imshow('Lucid', npndarray)\n",
    "        \"\"\"\n",
    "        Destroy the copied item to prevent memory leaks\n",
    "        \"\"\"\n",
    "        BufferFactory.destroy(item)\n",
    "\n",
    "        prev_frame_time = curr_frame_time\n",
    "\n",
    "        \"\"\"\n",
    "        Break if esc key is pressed\n",
    "        \"\"\"\n",
    "        key = cv2.waitKey(1)\n",
    "        if key == 27:\n",
    "            break\n",
    "        \n",
    "    device.stop_stream()\n",
    "    cv2.destroyAllWindows() "
   ]
  },
  {
   "cell_type": "markdown",
   "id": "1767b507-4e2e-4bcd-9581-92051fe73619",
   "metadata": {},
   "source": [
    "#### Cleanup"
   ]
  },
  {
   "cell_type": "code",
   "execution_count": null,
   "id": "e34c8054-19bd-417d-aa6a-6fdc65211b19",
   "metadata": {},
   "outputs": [],
   "source": [
    "system.destroy_device()"
   ]
  },
  {
   "cell_type": "markdown",
   "id": "dbba364e-d173-439e-aff6-86ee50847c86",
   "metadata": {},
   "source": [
    "## 5. Saving frame from one camera as PNG"
   ]
  },
  {
   "cell_type": "code",
   "execution_count": null,
   "id": "c51e4b26-c278-4964-838f-035a75241b1f",
   "metadata": {},
   "outputs": [],
   "source": [
    "TAB1 = \"  \" #global variables\n",
    "pixel_format = PixelFormat.BGR8"
   ]
  },
  {
   "cell_type": "markdown",
   "id": "f264bfd1-cd87-4b17-829d-8dec6dd90f87",
   "metadata": {},
   "source": [
    "#### Setup attributes"
   ]
  },
  {
   "cell_type": "code",
   "execution_count": null,
   "id": "ae055dac-ae12-4d71-8981-c8470f2e23e2",
   "metadata": {},
   "outputs": [],
   "source": [
    "\"\"\"\n",
    "Setup stream values\n",
    "\"\"\"\n",
    "tl_stream_nodemap = device.tl_stream_nodemap\n",
    "tl_stream_nodemap['StreamAutoNegotiatePacketSize'].value = True\n",
    "tl_stream_nodemap['StreamPacketResendEnable'].value = True"
   ]
  },
  {
   "cell_type": "markdown",
   "id": "fd4b98e8-68c3-41d9-a1c0-506d04edbce0",
   "metadata": {},
   "source": [
    "#### Obtain the image buffer and convert it to a saveable format"
   ]
  },
  {
   "cell_type": "code",
   "execution_count": null,
   "id": "44cbc35f-eac4-41bb-818a-17de0b1cd232",
   "metadata": {},
   "outputs": [],
   "source": [
    "device.start_stream()\n",
    "buffer = device.get_buffer()"
   ]
  },
  {
   "cell_type": "code",
   "execution_count": null,
   "id": "7024a2f2-ee71-45aa-96f6-d99e4f3b5be3",
   "metadata": {},
   "outputs": [],
   "source": [
    "converted = BufferFactory.convert(buffer, pixel_format)\n",
    "print(f\"{TAB1}Converted image to {pixel_format.name}\")"
   ]
  },
  {
   "cell_type": "markdown",
   "id": "417bf179-8501-40ee-9994-e552f1f70802",
   "metadata": {},
   "source": [
    "#### Save the image in the /images folder (stored in Jupyter) using a Writer object"
   ]
  },
  {
   "cell_type": "code",
   "execution_count": null,
   "id": "03bfbd0d-973e-4536-bbb8-a6793cc5603c",
   "metadata": {},
   "outputs": [],
   "source": [
    "print(f'{TAB1}Prepare Image Writer')\n",
    "writer = Writer()\n",
    "writer.pattern = 'images/image_<count>.jpg'\n"
   ]
  },
  {
   "cell_type": "code",
   "execution_count": null,
   "id": "eaca29f6-54cd-4611-81eb-ff7099fbc243",
   "metadata": {},
   "outputs": [],
   "source": [
    "writer.save(converted)\n",
    "print(f'{TAB1}Image saved')"
   ]
  },
  {
   "cell_type": "markdown",
   "id": "3611a04d-1c57-4993-85a2-1e7c0cc92403",
   "metadata": {},
   "source": [
    "#### Cleanup"
   ]
  },
  {
   "cell_type": "code",
   "execution_count": null,
   "id": "5bdb620d-1cd1-459a-a6ea-badde56f6600",
   "metadata": {},
   "outputs": [],
   "source": [
    "BufferFactory.destroy(converted)\n",
    "\n",
    "device.requeue_buffer(buffer)"
   ]
  },
  {
   "cell_type": "code",
   "execution_count": null,
   "id": "17e2da1d-1367-4421-aff5-84ea57217c1c",
   "metadata": {},
   "outputs": [],
   "source": [
    "device.stop_stream()\n",
    "\n",
    "# Destroy Device\n",
    "system.destroy_device(device)"
   ]
  },
  {
   "cell_type": "markdown",
   "id": "f194c234-327c-4cf0-92f3-94f3da403b74",
   "metadata": {},
   "source": [
    "## 6. Resetting device settings"
   ]
  },
  {
   "cell_type": "markdown",
   "id": "b6d73666-010d-4cf9-848a-d6fa11fabe3f",
   "metadata": {},
   "source": [
    "#### Reset the original settings"
   ]
  },
  {
   "cell_type": "code",
   "execution_count": null,
   "id": "d9220bff-1d6e-446e-9a86-808a36a5947e",
   "metadata": {},
   "outputs": [],
   "source": [
    "device.nodemap['UserSetSelector'].value = 'Default'\n",
    "device.nodemap['UserSetLoad'].execute()\n",
    "print('Device settings has been reset to \\'Default\\' user set')"
   ]
  },
  {
   "cell_type": "markdown",
   "id": "37590805-a26a-40b7-ae1c-d17269ef3135",
   "metadata": {},
   "source": [
    "#### Cleanup"
   ]
  },
  {
   "cell_type": "code",
   "execution_count": null,
   "id": "b2d38699-5c5b-4da5-b97f-a01bd57ebac8",
   "metadata": {},
   "outputs": [],
   "source": [
    "# Destroy all created devices. This call is optional and will\n",
    "# automatically be called for any remaining devices when the system module\n",
    "# is unloading.\n",
    "system.destroy_device()\n",
    "print('Destroyed all created devices')"
   ]
  }
 ],
 "metadata": {
  "kernelspec": {
   "display_name": "Python 3 (ipykernel)",
   "language": "python",
   "name": "python3"
  },
  "language_info": {
   "codemirror_mode": {
    "name": "ipython",
    "version": 3
   },
   "file_extension": ".py",
   "mimetype": "text/x-python",
   "name": "python",
   "nbconvert_exporter": "python",
   "pygments_lexer": "ipython3",
   "version": "3.7.11"
  }
 },
 "nbformat": 4,
 "nbformat_minor": 5
}
