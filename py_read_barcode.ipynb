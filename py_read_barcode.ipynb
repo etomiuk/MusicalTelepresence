{
 "cells": [
  {
   "cell_type": "markdown",
   "id": "753f095b-c0a4-48ba-91f3-49e6f94b6ec1",
   "metadata": {},
   "source": [
    "<h4>-----------------------------------------------------------------------------<br>Copyright (c) 2022, Lucid Vision Labs, Inc.</h4>\n",
    "<h5> THE  SOFTWARE  IS  PROVIDED  \"AS IS\",  WITHOUT  WARRANTY  OF  ANY  KIND,<br>EXPRESS  OR  IMPLIED,  INCLUDING  BUT  NOT  LIMITED  TO  THE  WARRANTIES<br>OF  MERCHANTABILITY,  FITNESS  FOR  A  PARTICULAR  PURPOSE  AND<br>NONINFRINGEMENT.  IN  NO  EVENT  SHALL  THE  AUTHORS  OR  COPYRIGHT  HOLDERS<br>BE  LIABLE  FOR  ANY  CLAIM,  DAMAGES  OR  OTHER  LIABILITY,  WHETHER  IN  AN<br>ACTION  OF  CONTRACT,  TORT  OR  OTHERWISE,  ARISING  FROM,  OUT  OF  OR  IN<br>CONNECTION  WITH  THE  SOFTWARE  OR  THE  USE  OR  OTHER  DEALINGS  IN <br> THE  SOFTWARE.<br>-----------------------------------------------------------------------------</h5>"
   ]
  },
  {
   "cell_type": "markdown",
   "id": "d2cb2492-ed1d-4fe9-a905-56e27dc0c110",
   "metadata": {},
   "source": [
    "# Version 1.0"
   ]
  },
  {
   "cell_type": "markdown",
   "id": "02c052a9-340e-40b3-9679-e23b46634ac7",
   "metadata": {},
   "source": [
    "# Barcode example\n",
    "### This application will use <a href=\"https://pypi.org/project/pyzbar/\">pyzbar</a> to decode barcodes from an image and <a href=\"https://pypi.org/project/opencv-python/\">opencv-python</a> to display the image on screen."
   ]
  },
  {
   "cell_type": "markdown",
   "id": "4f62d085-73dd-493b-9eb7-be0e488d9d33",
   "metadata": {},
   "source": [
    "# Cameras\n",
    "\n",
    "- Phoenix\n",
    "- Triton\n",
    "- Atlas\n",
    "- Atlas10"
   ]
  },
  {
   "cell_type": "markdown",
   "id": "149087a6-9211-4fc9-97b0-2672753a67c3",
   "metadata": {
    "tags": []
   },
   "source": [
    "# Dependencies\n",
    "\n",
    "This application requires the following dependencies:\n",
    "- opencv-python 4.5.3.56\n",
    "- numpy 1.21.6\n",
    "- pyzbar 0.1.9"
   ]
  },
  {
   "cell_type": "code",
   "execution_count": 1,
   "id": "5e547b92-fcde-4dd3-aac6-cf962d8ff1ff",
   "metadata": {
    "tags": []
   },
   "outputs": [
    {
     "name": "stdout",
     "output_type": "stream",
     "text": [
      "Requirement already satisfied: opencv-python==4.5.3.56 in c:\\programdata\\lucid vision labs\\arenaview\\arenapy\\miniconda3\\envs\\lucid_env\\lib\\site-packages (4.5.3.56)\n",
      "Requirement already satisfied: numpy>=1.14.5 in c:\\programdata\\lucid vision labs\\arenaview\\arenapy\\miniconda3\\envs\\lucid_env\\lib\\site-packages (from opencv-python==4.5.3.56) (1.21.6)\n",
      "Requirement already satisfied: numpy===1.21.6 in c:\\programdata\\lucid vision labs\\arenaview\\arenapy\\miniconda3\\envs\\lucid_env\\lib\\site-packages (1.21.6)\n",
      "Requirement already satisfied: pyzbar==0.1.9 in c:\\programdata\\lucid vision labs\\arenaview\\arenapy\\miniconda3\\envs\\lucid_env\\lib\\site-packages (0.1.9)\n"
     ]
    }
   ],
   "source": [
    "!pip install opencv-python==4.5.3.56\n",
    "!pip install numpy===1.21.6\n",
    "!pip install pyzbar==0.1.9"
   ]
  },
  {
   "cell_type": "markdown",
   "id": "43f3fa48-65c9-4d9e-9977-483816b73031",
   "metadata": {},
   "source": [
    "# Testing\n",
    "\n",
    "This application has been tested with Python v3.7.11"
   ]
  },
  {
   "cell_type": "code",
   "execution_count": 2,
   "id": "b8c863e6-3a8a-4c93-8b55-7308b1dddb25",
   "metadata": {},
   "outputs": [],
   "source": [
    "from arena_api import enums\n",
    "from arena_api.buffer import BufferFactory\n",
    "from arena_api.system import system"
   ]
  },
  {
   "cell_type": "code",
   "execution_count": 3,
   "id": "50b5e444-23be-41df-83de-f36864ae21bc",
   "metadata": {},
   "outputs": [],
   "source": [
    "import cv2 \n",
    "import numpy as np\n",
    "from pyzbar import pyzbar\n",
    "from pyzbar.pyzbar import ZBarSymbol"
   ]
  },
  {
   "cell_type": "markdown",
   "id": "2168eecf-17b8-44fb-9274-5a099e6c30a2",
   "metadata": {},
   "source": [
    "#### Set **use_camera_image = True** to use a camera image\n",
    "\n",
    "#### Set **use_camera_image = False** to use a predefined image (sample_barcodes.png in this directory):\n",
    "<img src=\"sample_barcodes.png\" width=400 height=400 />"
   ]
  },
  {
   "cell_type": "code",
   "execution_count": 4,
   "id": "e113c759-ad19-4ad6-99d0-283bd818a755",
   "metadata": {},
   "outputs": [],
   "source": [
    "use_camera_image = True"
   ]
  },
  {
   "cell_type": "markdown",
   "id": "f13e6311-9472-41a0-8342-8a8ce411a20b",
   "metadata": {},
   "source": [
    "### The variable **zsymbols** explicitly defines which barcode types to look for, which can be helpful to prevent false readings.\n",
    "\n",
    "### See the <a href=\"https://github.com/NaturalHistoryMuseum/pyzbar/blob/master/pyzbar/wrapper.py\">ZBarSymbol enumerations</a> for a list of symbols."
   ]
  },
  {
   "cell_type": "code",
   "execution_count": 5,
   "id": "19b2860d-6840-421e-be68-6b7dcae9cad1",
   "metadata": {},
   "outputs": [],
   "source": [
    "zsymbols = [ZBarSymbol.I25, \n",
    "            ZBarSymbol.CODE128, \n",
    "            ZBarSymbol.EAN8, \n",
    "            ZBarSymbol.EAN13, \n",
    "            ZBarSymbol.QRCODE, \n",
    "            ZBarSymbol.UPCE]"
   ]
  },
  {
   "cell_type": "markdown",
   "id": "460f3d39-cb19-48e6-890c-0100528a5e3e",
   "metadata": {},
   "source": [
    "### The following variables define the display window width and height"
   ]
  },
  {
   "cell_type": "code",
   "execution_count": 6,
   "id": "c3151813-a8d8-40bc-9943-59b220ed9e53",
   "metadata": {},
   "outputs": [],
   "source": [
    "window_width = 800\n",
    "window_height = 600"
   ]
  },
  {
   "cell_type": "markdown",
   "id": "bd7b1743-2439-4f8d-873e-74a5c6b26e92",
   "metadata": {
    "tags": []
   },
   "source": [
    "### The following function waits for the user to select a device"
   ]
  },
  {
   "cell_type": "code",
   "execution_count": 7,
   "id": "2dfbda42-26bf-4280-abd2-e28f1e43e191",
   "metadata": {},
   "outputs": [],
   "source": [
    "def select_device_from_user_input():\n",
    "    \n",
    "    device_infos = None\n",
    "    selected_index = None\n",
    "    while selected_index is None:\n",
    "        device_infos = system.device_infos\n",
    "        if len(device_infos) == 0:\n",
    "            print(\"No camera connected\\nPress enter to search again\")\n",
    "            input()\n",
    "            continue\n",
    "        print(\"Devices found:\")\n",
    "        for i in range(len(device_infos)):\n",
    "            print(f\"\\t{i}. {device_infos[i]['model']} SN: {device_infos[i]['serial']}\")\n",
    "\n",
    "        while True:\n",
    "            line = input(\"Selection: \")\n",
    "            try:\n",
    "                selected_index = int(line)\n",
    "                if 0 <= selected_index < len(device_infos):\n",
    "                    break\n",
    "                else:\n",
    "                    print(f\"Please enter a valid number between 0 and {len(device_infos)-1}\\n\")\n",
    "            except Exception as e:\n",
    "                print(\"\\nPlease enter a valid number\\n\")\n",
    "\n",
    "    selected_model = device_infos[selected_index]['model']\n",
    "    print(f\"\\nCreate device: {selected_model}...\")\n",
    "    device = system.create_device(device_infos=device_infos[selected_index])[0]\n",
    "    \n",
    "    return device"
   ]
  },
  {
   "cell_type": "markdown",
   "id": "6e44d538-2110-420f-8ad3-049b3c508f23",
   "metadata": {
    "tags": []
   },
   "source": [
    "### The following function sets up and runs the camera"
   ]
  },
  {
   "cell_type": "code",
   "execution_count": 8,
   "id": "d034cc27-2a0c-4b26-89ba-13d426c89311",
   "metadata": {},
   "outputs": [],
   "source": [
    "def run_camera():\n",
    "\n",
    "    # create devices\n",
    "    device = select_device_from_user_input()\n",
    "    \n",
    "    device.tl_stream_nodemap.get_node('StreamBufferHandlingMode').value = 'NewestOnly'\n",
    "    device.tl_stream_nodemap.get_node('StreamPacketResendEnable').value = True\n",
    "    device.tl_stream_nodemap.get_node('StreamAutoNegotiatePacketSize').value = True\n",
    "    \n",
    "    isp_bayer_pattern = device.nodemap.get_node('IspBayerPattern').value\n",
    "    is_color_camera = False\n",
    "    \n",
    "    if isp_bayer_pattern != 'NONE':\n",
    "        is_color_camera = True\n",
    "    \n",
    "    if is_color_camera == True:\n",
    "        device.nodemap.get_node('PixelFormat').value = \"BayerRG8\"\n",
    "    else:\n",
    "        device.nodemap.get_node('PixelFormat').value = \"Mono8\"\n",
    "        \n",
    "    # grab images -------------------------------------------------------------\n",
    "\n",
    "    get_image_buffers(device, is_color_camera)\n",
    "\n",
    "    # clean up ----------------------------------------------------------------\n",
    "\n",
    "    # This function call with no arguments will destroy all of the\n",
    "    # created devices. Having this call here is optional, if it is not\n",
    "    # here it will be called automatically when the system module is unloading.\n",
    "    system.destroy_device()\n",
    "    print('Destroyed all created devices')"
   ]
  },
  {
   "cell_type": "code",
   "execution_count": 9,
   "id": "16203455-1605-449d-9db7-4d5f8849b168",
   "metadata": {},
   "outputs": [],
   "source": [
    "def read_barcodes(input_img, display_img):    \n",
    "    barcodes = pyzbar.decode(input_img, zsymbols)\n",
    "    \n",
    "    num_barcodes = 1\n",
    "    \n",
    "    for barcode in barcodes:\n",
    "        # extract the bounding box location of the barcode and draw the\n",
    "        # bounding box surrounding the barcode on the image\n",
    "        (x, y, w, h) = barcode.rect\n",
    "        \n",
    "        if num_barcodes == 1:\n",
    "            cv2.rectangle(display_img, (x, y), (x + w, y + h), (0, 0, 255), 2)\n",
    "        elif num_barcodes == 2:\n",
    "            cv2.rectangle(display_img, (x, y), (x + w, y + h), (0, 255, 0), 2)\n",
    "        elif num_barcodes == 3:\n",
    "            cv2.rectangle(display_img, (x, y), (x + w, y + h), (255, 0, 0), 2)\n",
    "        \n",
    "        # the barcode data is a bytes object so if we want to draw it on\n",
    "        # our output image we need to convert it to a string first\n",
    "        barcodeData = barcode.data.decode(\"utf-8\")\n",
    "        barcodeType = barcode.type\n",
    "        \n",
    "        # draw the barcode data and barcode type on the image\n",
    "        text = \"{} ({})\".format(barcodeData, barcodeType)\n",
    "        \n",
    "        if num_barcodes == 1:\n",
    "            cv2.putText(display_img, text, (x, y - 10), cv2.FONT_HERSHEY_SIMPLEX, 1, (0, 0, 255), 2)\n",
    "        elif num_barcodes == 2:\n",
    "            cv2.putText(display_img, text, (x, y - 10), cv2.FONT_HERSHEY_SIMPLEX, 1, (0, 255, 0), 2)\n",
    "        elif num_barcodes == 3:\n",
    "            cv2.putText(display_img, text, (x, y - 10), cv2.FONT_HERSHEY_SIMPLEX, 1, (255, 0, 0), 2)\n",
    "        \n",
    "        # print the barcode type and data to the terminal\n",
    "        #print(\"[INFO] Found {} barcode: {}\".format(barcodeType, barcodeData))\n",
    "        \n",
    "        num_barcodes = num_barcodes + 1\n",
    "        if num_barcodes > 3:\n",
    "            num_barcodes = 1\n",
    "    \n",
    "    return display_img"
   ]
  },
  {
   "cell_type": "code",
   "execution_count": 10,
   "id": "487dca18-8724-4266-acd2-910a4f42c5df",
   "metadata": {},
   "outputs": [],
   "source": [
    "def get_image_buffers(device, is_color_camera=False):\n",
    "    key = -1\n",
    "    cv2.namedWindow(\"Image\", cv2.WINDOW_NORMAL)\n",
    "        \n",
    "    device.start_stream()\n",
    "    \n",
    "    while True:    \n",
    "        image_buffer = device.get_buffer()  # optional args\n",
    "        nparray = np.ctypeslib.as_array(image_buffer.pdata,shape=(image_buffer.height, image_buffer.width, int(image_buffer.bits_per_pixel / 8))).reshape(image_buffer.height, image_buffer.width, int(image_buffer.bits_per_pixel / 8))\n",
    "        \n",
    "        if is_color_camera == True:\n",
    "            #converted_img = BufferFactory.convert(image_buffer, enums.PixelFormat.BGR8)\n",
    "            #display_img = np.ctypeslib.as_array(converted_img.pdata,shape=(converted_img.height, converted_img.width, int(converted_img.bits_per_pixel / 8))).reshape(converted_img.height, converted_img.width, int(converted_img.bits_per_pixel / 8))\n",
    "            display_img = cv2.cvtColor(nparray, cv2.COLOR_BayerBG2BGR)\n",
    "            nparray = cv2.cvtColor(display_img, cv2.COLOR_BGR2GRAY)\n",
    "        else:\n",
    "            display_img = cv2.cvtColor(nparray, cv2.COLOR_GRAY2BGR)\n",
    "        \n",
    "        decoded_img = read_barcodes(nparray, display_img)\n",
    "        \n",
    "        cv2.resizeWindow(\"Image\", window_width, window_height)\n",
    "        cv2.imshow(\"Image\", decoded_img)\n",
    "        \n",
    "        key = cv2.waitKey(1) & 0xFF\n",
    "        if key == ord(\"q\"):\n",
    "            break\n",
    "\n",
    "        #BufferFactory.destroy(converted_image)\n",
    "        device.requeue_buffer(image_buffer)    \n",
    "        \n",
    "    cv2.destroyAllWindows()\n",
    "    device.stop_stream()"
   ]
  },
  {
   "cell_type": "code",
   "execution_count": 11,
   "id": "faff42a0-37f8-454d-921b-1dcc6d09de34",
   "metadata": {},
   "outputs": [],
   "source": [
    "def read_sample_image():\n",
    "    \n",
    "    key = -1\n",
    "    cv2.namedWindow(\"Image\", cv2.WINDOW_NORMAL)\n",
    "    \n",
    "    nparray = cv2.imread(\"sample_barcodes.png\", cv2.IMREAD_GRAYSCALE)\n",
    "    display_img = cv2.cvtColor(nparray, cv2.COLOR_GRAY2BGR)\n",
    "    \n",
    "    decoded_img = read_barcodes(nparray, display_img)\n",
    "    \n",
    "    while True:\n",
    "        cv2.resizeWindow(\"Image\", window_width, window_height)\n",
    "        cv2.imshow(\"Image\", decoded_img)\n",
    "\n",
    "        key = cv2.waitKey(1) & 0xFF\n",
    "        if key == ord(\"q\"):\n",
    "            break\n",
    "            \n",
    "    cv2.destroyAllWindows()"
   ]
  },
  {
   "cell_type": "code",
   "execution_count": 12,
   "id": "44b7e1d4-397d-412c-b68b-13b60d56ef2a",
   "metadata": {},
   "outputs": [
    {
     "name": "stdout",
     "output_type": "stream",
     "text": [
      "WARNING:\n",
      "THIS EXAMPLE MIGHT CHANGE THE DEVICE(S) SETTINGS!\n",
      "Example started\n",
      "Example finished successfully\n"
     ]
    }
   ],
   "source": [
    "if __name__ == '__main__':\n",
    "    try:\n",
    "        print('WARNING:\\nTHIS EXAMPLE MIGHT CHANGE THE DEVICE(S) SETTINGS!')\n",
    "        print('Example started')\n",
    "        \n",
    "        if use_camera_image == True:\n",
    "            run_camera()\n",
    "        else:\n",
    "            read_sample_image()\n",
    "        \n",
    "        print('Example finished successfully')\n",
    "    except BaseException as be:\n",
    "        print(be)\n",
    "        raise be"
   ]
  },
  {
   "cell_type": "code",
   "execution_count": null,
   "id": "999f54ad-f6e2-4198-837d-84dc201793c6",
   "metadata": {},
   "outputs": [],
   "source": []
  }
 ],
 "metadata": {
  "kernelspec": {
   "display_name": "Python 3 (ipykernel)",
   "language": "python",
   "name": "python3"
  },
  "language_info": {
   "codemirror_mode": {
    "name": "ipython",
    "version": 3
   },
   "file_extension": ".py",
   "mimetype": "text/x-python",
   "name": "python",
   "nbconvert_exporter": "python",
   "pygments_lexer": "ipython3",
   "version": "3.9.12"
  }
 },
 "nbformat": 4,
 "nbformat_minor": 5
}
